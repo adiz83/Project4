{
 "cells": [
  {
   "cell_type": "markdown",
   "id": "35776ff0",
   "metadata": {},
   "source": [
    "# Sentiment Analysis"
   ]
  },
  {
   "cell_type": "code",
   "execution_count": null,
   "id": "a11feebc",
   "metadata": {},
   "outputs": [],
   "source": []
  },
  {
   "cell_type": "code",
   "execution_count": 24,
   "id": "a6574f43",
   "metadata": {},
   "outputs": [],
   "source": [
    "import os\n",
    "import re\n",
    "import pandas as pd\n",
    "from nltk.tokenize import word_tokenize\n"
   ]
  },
  {
   "cell_type": "code",
   "execution_count": 25,
   "id": "2335eee6",
   "metadata": {},
   "outputs": [],
   "source": [
    "def read_words_from_file(file_path):\n",
    "    with open(file_path, 'r', encoding='latin-1') as file:\n",
    "        words = [line.strip() for line in file if line.strip()] \n",
    "    return set(words)\n"
   ]
  },
  {
   "cell_type": "code",
   "execution_count": 26,
   "id": "5d6cd8ac",
   "metadata": {},
   "outputs": [],
   "source": [
    "def find_special_characters(words):\n",
    "    special_characters = set()\n",
    "    for word in words:\n",
    "        special_characters.update(char for char in word if not char.isalnum())\n",
    "    return special_characters\n"
   ]
  },
  {
   "cell_type": "code",
   "execution_count": 27,
   "id": "b35253cf",
   "metadata": {},
   "outputs": [],
   "source": [
    "def clean_text(text):\n",
    "    cleaned_text = re.sub(r'[^A-Za-z\\s\\+\\-\\*]', '', text)\n",
    "    return cleaned_text"
   ]
  },
  {
   "cell_type": "code",
   "execution_count": 28,
   "id": "7bffaf43",
   "metadata": {},
   "outputs": [],
   "source": [
    "def calculate_scores(words):\n",
    "    positive_score = sum(1 for word in words if word in positive_words)\n",
    "    negative_score = sum(1 for word in words if word in negative_words)\n",
    "    \n",
    "    polarity_score = (positive_score - negative_score) / (positive_score + negative_score + 0.000001)\n",
    "    subjectivity_score = (positive_score + negative_score) / (len(words) + 0.000001)\n",
    "    \n",
    "    return positive_score, negative_score, polarity_score, subjectivity_score"
   ]
  },
  {
   "cell_type": "code",
   "execution_count": 29,
   "id": "9ce9e9f2",
   "metadata": {},
   "outputs": [],
   "source": [
    "def process_file(file_path):\n",
    "    with open(file_path, 'r', encoding='utf-8') as file:\n",
    "        content = file.read()\n",
    "\n",
    "    cleaned_text = clean_text(content)\n",
    "    words = word_tokenize(cleaned_text)\n",
    "    \n",
    "    positive_score, negative_score, polarity_score, subjectivity_score = calculate_scores(words)\n",
    "    \n",
    "    return {\n",
    "        'Positive Score': positive_score,\n",
    "        'Negative Score': negative_score,\n",
    "        'Polarity Score': polarity_score,\n",
    "        'Subjectivity Score': subjectivity_score\n",
    "    }"
   ]
  },
  {
   "cell_type": "code",
   "execution_count": 30,
   "id": "27046043",
   "metadata": {},
   "outputs": [],
   "source": [
    "def process_output(output_folder):\n",
    "    results = []\n",
    "    for filename in os.listdir(output_folder):\n",
    "        file_path = os.path.join(output_folder, filename)\n",
    "        if filename.endswith(\".txt\"):\n",
    "            file_result = process_file(file_path)\n",
    "            results.append({'File': filename, **file_result})\n",
    "\n",
    "    return pd.DataFrame(results)"
   ]
  },
  {
   "cell_type": "code",
   "execution_count": 31,
   "id": "75ab9e75",
   "metadata": {},
   "outputs": [
    {
     "name": "stdout",
     "output_type": "stream",
     "text": [
      "Special characters in positive words: {'-', '+'}\n",
      "Special characters in negative words: {'-', '*'}\n"
     ]
    }
   ],
   "source": [
    "\n",
    "positive_words = read_words_from_file('positive-words.txt')\n",
    "negative_words = read_words_from_file('negative-words.txt')\n",
    "\n",
    "special_characters_positive = find_special_characters(positive_words)\n",
    "print(\"Special characters in positive words:\", special_characters_positive)\n",
    "\n",
    "special_characters_negative = find_special_characters(negative_words)\n",
    "print(\"Special characters in negative words:\", special_characters_negative)\n"
   ]
  },
  {
   "cell_type": "code",
   "execution_count": 32,
   "id": "e3d705c6",
   "metadata": {},
   "outputs": [
    {
     "data": {
      "text/html": [
       "<div>\n",
       "<style scoped>\n",
       "    .dataframe tbody tr th:only-of-type {\n",
       "        vertical-align: middle;\n",
       "    }\n",
       "\n",
       "    .dataframe tbody tr th {\n",
       "        vertical-align: top;\n",
       "    }\n",
       "\n",
       "    .dataframe thead th {\n",
       "        text-align: right;\n",
       "    }\n",
       "</style>\n",
       "<table border=\"1\" class=\"dataframe\">\n",
       "  <thead>\n",
       "    <tr style=\"text-align: right;\">\n",
       "      <th></th>\n",
       "      <th>File</th>\n",
       "      <th>Positive Score</th>\n",
       "      <th>Negative Score</th>\n",
       "      <th>Polarity Score</th>\n",
       "      <th>Subjectivity Score</th>\n",
       "    </tr>\n",
       "  </thead>\n",
       "  <tbody>\n",
       "    <tr>\n",
       "      <th>0</th>\n",
       "      <td>blackassign_blackassign0001.txt</td>\n",
       "      <td>31</td>\n",
       "      <td>7</td>\n",
       "      <td>0.631579</td>\n",
       "      <td>0.064189</td>\n",
       "    </tr>\n",
       "    <tr>\n",
       "      <th>1</th>\n",
       "      <td>blackassign_blackassign0002.txt</td>\n",
       "      <td>58</td>\n",
       "      <td>30</td>\n",
       "      <td>0.318182</td>\n",
       "      <td>0.113695</td>\n",
       "    </tr>\n",
       "    <tr>\n",
       "      <th>2</th>\n",
       "      <td>blackassign_blackassign0003.txt</td>\n",
       "      <td>41</td>\n",
       "      <td>24</td>\n",
       "      <td>0.261538</td>\n",
       "      <td>0.088919</td>\n",
       "    </tr>\n",
       "    <tr>\n",
       "      <th>3</th>\n",
       "      <td>blackassign_blackassign0004.txt</td>\n",
       "      <td>42</td>\n",
       "      <td>75</td>\n",
       "      <td>-0.282051</td>\n",
       "      <td>0.165957</td>\n",
       "    </tr>\n",
       "    <tr>\n",
       "      <th>4</th>\n",
       "      <td>blackassign_blackassign0005.txt</td>\n",
       "      <td>23</td>\n",
       "      <td>9</td>\n",
       "      <td>0.437500</td>\n",
       "      <td>0.069869</td>\n",
       "    </tr>\n",
       "    <tr>\n",
       "      <th>...</th>\n",
       "      <td>...</td>\n",
       "      <td>...</td>\n",
       "      <td>...</td>\n",
       "      <td>...</td>\n",
       "      <td>...</td>\n",
       "    </tr>\n",
       "    <tr>\n",
       "      <th>93</th>\n",
       "      <td>blackassign_blackassign0096.txt</td>\n",
       "      <td>31</td>\n",
       "      <td>55</td>\n",
       "      <td>-0.279070</td>\n",
       "      <td>0.130501</td>\n",
       "    </tr>\n",
       "    <tr>\n",
       "      <th>94</th>\n",
       "      <td>blackassign_blackassign0097.txt</td>\n",
       "      <td>27</td>\n",
       "      <td>36</td>\n",
       "      <td>-0.142857</td>\n",
       "      <td>0.120921</td>\n",
       "    </tr>\n",
       "    <tr>\n",
       "      <th>95</th>\n",
       "      <td>blackassign_blackassign0098.txt</td>\n",
       "      <td>6</td>\n",
       "      <td>1</td>\n",
       "      <td>0.714286</td>\n",
       "      <td>0.034314</td>\n",
       "    </tr>\n",
       "    <tr>\n",
       "      <th>96</th>\n",
       "      <td>blackassign_blackassign0099.txt</td>\n",
       "      <td>16</td>\n",
       "      <td>4</td>\n",
       "      <td>0.600000</td>\n",
       "      <td>0.056818</td>\n",
       "    </tr>\n",
       "    <tr>\n",
       "      <th>97</th>\n",
       "      <td>blackassign_blackassign0100.txt</td>\n",
       "      <td>34</td>\n",
       "      <td>56</td>\n",
       "      <td>-0.244444</td>\n",
       "      <td>0.165138</td>\n",
       "    </tr>\n",
       "  </tbody>\n",
       "</table>\n",
       "<p>98 rows × 5 columns</p>\n",
       "</div>"
      ],
      "text/plain": [
       "                               File  Positive Score  Negative Score  \\\n",
       "0   blackassign_blackassign0001.txt              31               7   \n",
       "1   blackassign_blackassign0002.txt              58              30   \n",
       "2   blackassign_blackassign0003.txt              41              24   \n",
       "3   blackassign_blackassign0004.txt              42              75   \n",
       "4   blackassign_blackassign0005.txt              23               9   \n",
       "..                              ...             ...             ...   \n",
       "93  blackassign_blackassign0096.txt              31              55   \n",
       "94  blackassign_blackassign0097.txt              27              36   \n",
       "95  blackassign_blackassign0098.txt               6               1   \n",
       "96  blackassign_blackassign0099.txt              16               4   \n",
       "97  blackassign_blackassign0100.txt              34              56   \n",
       "\n",
       "    Polarity Score  Subjectivity Score  \n",
       "0         0.631579            0.064189  \n",
       "1         0.318182            0.113695  \n",
       "2         0.261538            0.088919  \n",
       "3        -0.282051            0.165957  \n",
       "4         0.437500            0.069869  \n",
       "..             ...                 ...  \n",
       "93       -0.279070            0.130501  \n",
       "94       -0.142857            0.120921  \n",
       "95        0.714286            0.034314  \n",
       "96        0.600000            0.056818  \n",
       "97       -0.244444            0.165138  \n",
       "\n",
       "[98 rows x 5 columns]"
      ]
     },
     "execution_count": 32,
     "metadata": {},
     "output_type": "execute_result"
    }
   ],
   "source": [
    "input_file = 'output_no_stopwords'\n",
    "\n",
    "df_results = process_output(input_file)\n",
    "\n",
    "df_results.to_csv('file1.csv', index=False)\n",
    "\n",
    "df_results"
   ]
  }
 ],
 "metadata": {
  "kernelspec": {
   "display_name": "Python 3 (ipykernel)",
   "language": "python",
   "name": "python3"
  },
  "language_info": {
   "codemirror_mode": {
    "name": "ipython",
    "version": 3
   },
   "file_extension": ".py",
   "mimetype": "text/x-python",
   "name": "python",
   "nbconvert_exporter": "python",
   "pygments_lexer": "ipython3",
   "version": "3.11.4"
  }
 },
 "nbformat": 4,
 "nbformat_minor": 5
}
