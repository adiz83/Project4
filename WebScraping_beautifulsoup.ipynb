{
 "cells": [
  {
   "cell_type": "markdown",
   "id": "9dcc425d",
   "metadata": {},
   "source": [
    "# Web Scraping Websites"
   ]
  },
  {
   "cell_type": "code",
   "execution_count": 1,
   "id": "d52bc7a0-3ffe-4285-8e67-221e6d76832e",
   "metadata": {},
   "outputs": [],
   "source": [
    "import pandas as pd\n",
    "from bs4 import BeautifulSoup\n",
    "import requests\n",
    "import os\n"
   ]
  },
  {
   "cell_type": "code",
   "execution_count": 8,
   "id": "27ac874a",
   "metadata": {},
   "outputs": [],
   "source": [
    "\n",
    "\n",
    "def extract_article_text(url_id, url, output_folder):\n",
    "    try:\n",
    "        response = requests.get(url)\n",
    "        response.raise_for_status() \n",
    "\n",
    "        soup = BeautifulSoup(response.content, 'html.parser')\n",
    "\n",
    "        article_title = soup.title.text.strip()\n",
    "\n",
    "        def is_content_valid(tag):\n",
    "            undesired_content = 'We provide intelligence, accelerate innovation and implement technology with extraordinary breadth and depth global insights into the big data,data-driven dashboards, applications development, and information management for organizations through combining unique, specialist services and high-lvel human expertise.'\n",
    "            return tag.name == 'p' and undesired_content not in tag.get_text(strip=True).lower() or tag.name == 'ol'\n",
    "\n",
    "        paragraphs = [tag.get_text(strip=True) for tag in soup.find_all(is_content_valid)]\n",
    "\n",
    "        article_text = ' '.join(paragraphs)\n",
    "\n",
    "        file_name = f'{output_folder}/blackassign_{url_id}.txt'\n",
    "        with open(file_name, 'w', encoding='utf-8') as file:\n",
    "            file.write(f'{article_title}\\n\\n{article_text}')\n",
    "\n",
    "        print(f'Successfully extracted data from {url} and saved to {file_name}')\n",
    "\n",
    "    except requests.exceptions.RequestException as e:\n",
    "        print(f'Failed to retrieve the webpage. Error: {e}')"
   ]
  },
  {
   "cell_type": "code",
   "execution_count": 9,
   "id": "7936e98c",
   "metadata": {},
   "outputs": [],
   "source": [
    "def main():\n",
    "    \n",
    "    input_excel_path = 'input.xlsx'\n",
    "    output_folder = 'output'\n",
    "    \n",
    "    os.makedirs(output_folder, exist_ok=True)\n",
    "    \n",
    "    df = pd.read_excel(input_excel_path)\n",
    "\n",
    "    for index, row in df.iterrows():\n",
    "        url_id = row['URL_ID']\n",
    "        url = row['URL']\n",
    "        extract_article_text(url_id, url, output_folder)\n",
    "\n",
    "\n"
   ]
  },
  {
   "cell_type": "code",
   "execution_count": 10,
   "id": "0c3c45f2",
   "metadata": {},
   "outputs": [
    {
     "name": "stdout",
     "output_type": "stream",
     "text": [
      "Successfully extracted data from https://insights.blackcoffer.com/rising-it-cities-and-its-impact-on-the-economy-environment-infrastructure-and-city-life-by-the-year-2040-2/ and saved to output/blackassign_blackassign0001.txt\n",
      "Successfully extracted data from https://insights.blackcoffer.com/rising-it-cities-and-their-impact-on-the-economy-environment-infrastructure-and-city-life-in-future/ and saved to output/blackassign_blackassign0002.txt\n",
      "Successfully extracted data from https://insights.blackcoffer.com/internet-demands-evolution-communication-impact-and-2035s-alternative-pathways/ and saved to output/blackassign_blackassign0003.txt\n",
      "Successfully extracted data from https://insights.blackcoffer.com/rise-of-cybercrime-and-its-effect-in-upcoming-future/ and saved to output/blackassign_blackassign0004.txt\n",
      "Successfully extracted data from https://insights.blackcoffer.com/ott-platform-and-its-impact-on-the-entertainment-industry-in-future/ and saved to output/blackassign_blackassign0005.txt\n",
      "Successfully extracted data from https://insights.blackcoffer.com/the-rise-of-the-ott-platform-and-its-impact-on-the-entertainment-industry-by-2040/ and saved to output/blackassign_blackassign0006.txt\n",
      "Successfully extracted data from https://insights.blackcoffer.com/rise-of-cyber-crime-and-its-effects/ and saved to output/blackassign_blackassign0007.txt\n",
      "Successfully extracted data from https://insights.blackcoffer.com/rise-of-internet-demand-and-its-impact-on-communications-and-alternatives-by-the-year-2035-2/ and saved to output/blackassign_blackassign0008.txt\n",
      "Successfully extracted data from https://insights.blackcoffer.com/rise-of-cybercrime-and-its-effect-by-the-year-2040-2/ and saved to output/blackassign_blackassign0009.txt\n",
      "Successfully extracted data from https://insights.blackcoffer.com/rise-of-cybercrime-and-its-effect-by-the-year-2040/ and saved to output/blackassign_blackassign0010.txt\n",
      "Successfully extracted data from https://insights.blackcoffer.com/rise-of-internet-demand-and-its-impact-on-communications-and-alternatives-by-the-year-2035/ and saved to output/blackassign_blackassign0011.txt\n",
      "Successfully extracted data from https://insights.blackcoffer.com/rise-of-telemedicine-and-its-impact-on-livelihood-by-2040-3-2/ and saved to output/blackassign_blackassign0012.txt\n",
      "Successfully extracted data from https://insights.blackcoffer.com/rise-of-e-health-and-its-impact-on-humans-by-the-year-2030/ and saved to output/blackassign_blackassign0013.txt\n",
      "Successfully extracted data from https://insights.blackcoffer.com/rise-of-e-health-and-its-imapct-on-humans-by-the-year-2030-2/ and saved to output/blackassign_blackassign0014.txt\n",
      "Successfully extracted data from https://insights.blackcoffer.com/rise-of-telemedicine-and-its-impact-on-livelihood-by-2040-2/ and saved to output/blackassign_blackassign0015.txt\n",
      "Successfully extracted data from https://insights.blackcoffer.com/rise-of-telemedicine-and-its-impact-on-livelihood-by-2040-2-2/ and saved to output/blackassign_blackassign0016.txt\n",
      "Successfully extracted data from https://insights.blackcoffer.com/rise-of-chatbots-and-its-impact-on-customer-support-by-the-year-2040/ and saved to output/blackassign_blackassign0017.txt\n",
      "Successfully extracted data from https://insights.blackcoffer.com/rise-of-e-health-and-its-imapct-on-humans-by-the-year-2030/ and saved to output/blackassign_blackassign0018.txt\n",
      "Successfully extracted data from https://insights.blackcoffer.com/how-does-marketing-influence-businesses-and-consumers/ and saved to output/blackassign_blackassign0019.txt\n",
      "Successfully extracted data from https://insights.blackcoffer.com/how-advertisement-increase-your-market-value/ and saved to output/blackassign_blackassign0020.txt\n",
      "Successfully extracted data from https://insights.blackcoffer.com/negative-effects-of-marketing-on-society/ and saved to output/blackassign_blackassign0021.txt\n",
      "Successfully extracted data from https://insights.blackcoffer.com/how-advertisement-marketing-affects-business/ and saved to output/blackassign_blackassign0022.txt\n",
      "Successfully extracted data from https://insights.blackcoffer.com/rising-it-cities-will-impact-the-economy-environment-infrastructure-and-city-life-by-the-year-2035/ and saved to output/blackassign_blackassign0023.txt\n",
      "Successfully extracted data from https://insights.blackcoffer.com/rise-of-ott-platform-and-its-impact-on-entertainment-industry-by-the-year-2030/ and saved to output/blackassign_blackassign0024.txt\n",
      "Successfully extracted data from https://insights.blackcoffer.com/rise-of-electric-vehicles-and-its-impact-on-livelihood-by-2040/ and saved to output/blackassign_blackassign0025.txt\n",
      "Successfully extracted data from https://insights.blackcoffer.com/rise-of-electric-vehicle-and-its-impact-on-livelihood-by-the-year-2040/ and saved to output/blackassign_blackassign0026.txt\n",
      "Successfully extracted data from https://insights.blackcoffer.com/oil-prices-by-the-year-2040-and-how-it-will-impact-the-world-economy/ and saved to output/blackassign_blackassign0027.txt\n",
      "Successfully extracted data from https://insights.blackcoffer.com/an-outlook-of-healthcare-by-the-year-2040-and-how-it-will-impact-human-lives/ and saved to output/blackassign_blackassign0028.txt\n",
      "Successfully extracted data from https://insights.blackcoffer.com/ai-in-healthcare-to-improve-patient-outcomes/ and saved to output/blackassign_blackassign0029.txt\n",
      "Successfully extracted data from https://insights.blackcoffer.com/what-if-the-creation-is-taking-over-the-creator/ and saved to output/blackassign_blackassign0030.txt\n",
      "Successfully extracted data from https://insights.blackcoffer.com/what-jobs-will-robots-take-from-humans-in-the-future/ and saved to output/blackassign_blackassign0031.txt\n",
      "Successfully extracted data from https://insights.blackcoffer.com/will-machine-replace-the-human-in-the-future-of-work/ and saved to output/blackassign_blackassign0032.txt\n",
      "Successfully extracted data from https://insights.blackcoffer.com/will-ai-replace-us-or-work-with-us/ and saved to output/blackassign_blackassign0033.txt\n",
      "Successfully extracted data from https://insights.blackcoffer.com/man-and-machines-together-machines-are-more-diligent-than-humans-blackcoffe/ and saved to output/blackassign_blackassign0034.txt\n",
      "Successfully extracted data from https://insights.blackcoffer.com/in-future-or-in-upcoming-years-humans-and-machines-are-going-to-work-together-in-every-field-of-work/ and saved to output/blackassign_blackassign0035.txt\n",
      "Failed to retrieve the webpage. Error: 404 Client Error: Not Found for url: https://insights.blackcoffer.com/how-neural-networks-can-be-applied-in-various-areas-in-the-future/\n",
      "Successfully extracted data from https://insights.blackcoffer.com/how-machine-learning-will-affect-your-business/ and saved to output/blackassign_blackassign0037.txt\n",
      "Successfully extracted data from https://insights.blackcoffer.com/deep-learning-impact-on-areas-of-e-learning/ and saved to output/blackassign_blackassign0038.txt\n",
      "Successfully extracted data from https://insights.blackcoffer.com/how-to-protect-future-data-and-its-privacy-blackcoffer/ and saved to output/blackassign_blackassign0039.txt\n",
      "Successfully extracted data from https://insights.blackcoffer.com/how-machines-ai-automations-and-robo-human-are-effective-in-finance-and-banking/ and saved to output/blackassign_blackassign0040.txt\n",
      "Successfully extracted data from https://insights.blackcoffer.com/ai-human-robotics-machine-future-planet-blackcoffer-thinking-jobs-workplace/ and saved to output/blackassign_blackassign0041.txt\n",
      "Successfully extracted data from https://insights.blackcoffer.com/how-ai-will-change-the-world-blackcoffer/ and saved to output/blackassign_blackassign0042.txt\n",
      "Successfully extracted data from https://insights.blackcoffer.com/future-of-work-how-ai-has-entered-the-workplace/ and saved to output/blackassign_blackassign0043.txt\n",
      "Successfully extracted data from https://insights.blackcoffer.com/ai-tool-alexa-google-assistant-finance-banking-tool-future/ and saved to output/blackassign_blackassign0044.txt\n",
      "Successfully extracted data from https://insights.blackcoffer.com/ai-healthcare-revolution-ml-technology-algorithm-google-analytics-industrialrevolution/ and saved to output/blackassign_blackassign0045.txt\n"
     ]
    },
    {
     "name": "stdout",
     "output_type": "stream",
     "text": [
      "Successfully extracted data from https://insights.blackcoffer.com/all-you-need-to-know-about-online-marketing/ and saved to output/blackassign_blackassign0046.txt\n",
      "Successfully extracted data from https://insights.blackcoffer.com/evolution-of-advertising-industry/ and saved to output/blackassign_blackassign0047.txt\n",
      "Successfully extracted data from https://insights.blackcoffer.com/how-data-analytics-can-help-your-business-respond-to-the-impact-of-covid-19/ and saved to output/blackassign_blackassign0048.txt\n",
      "Failed to retrieve the webpage. Error: 404 Client Error: Not Found for url: https://insights.blackcoffer.com/covid-19-environmental-impact-for-the-future/\n",
      "Successfully extracted data from https://insights.blackcoffer.com/environmental-impact-of-the-covid-19-pandemic-lesson-for-the-future/ and saved to output/blackassign_blackassign0050.txt\n",
      "Successfully extracted data from https://insights.blackcoffer.com/how-data-analytics-and-ai-are-used-to-halt-the-covid-19-pandemic/ and saved to output/blackassign_blackassign0051.txt\n",
      "Successfully extracted data from https://insights.blackcoffer.com/difference-between-artificial-intelligence-machine-learning-statistics-and-data-mining/ and saved to output/blackassign_blackassign0052.txt\n",
      "Successfully extracted data from https://insights.blackcoffer.com/how-python-became-the-first-choice-for-data-science/ and saved to output/blackassign_blackassign0053.txt\n",
      "Successfully extracted data from https://insights.blackcoffer.com/how-google-fit-measure-heart-and-respiratory-rates-using-a-phone/ and saved to output/blackassign_blackassign0054.txt\n",
      "Successfully extracted data from https://insights.blackcoffer.com/what-is-the-future-of-mobile-apps/ and saved to output/blackassign_blackassign0055.txt\n",
      "Successfully extracted data from https://insights.blackcoffer.com/impact-of-ai-in-health-and-medicine/ and saved to output/blackassign_blackassign0056.txt\n",
      "Successfully extracted data from https://insights.blackcoffer.com/telemedicine-what-patients-like-and-dislike-about-it/ and saved to output/blackassign_blackassign0057.txt\n",
      "Successfully extracted data from https://insights.blackcoffer.com/how-we-forecast-future-technologies/ and saved to output/blackassign_blackassign0058.txt\n",
      "Successfully extracted data from https://insights.blackcoffer.com/can-robots-tackle-late-life-loneliness/ and saved to output/blackassign_blackassign0059.txt\n",
      "Successfully extracted data from https://insights.blackcoffer.com/embedding-care-robots-into-society-socio-technical-considerations/ and saved to output/blackassign_blackassign0060.txt\n",
      "Successfully extracted data from https://insights.blackcoffer.com/management-challenges-for-future-digitalization-of-healthcare-services/ and saved to output/blackassign_blackassign0061.txt\n",
      "Successfully extracted data from https://insights.blackcoffer.com/are-we-any-closer-to-preventing-a-nuclear-holocaust/ and saved to output/blackassign_blackassign0062.txt\n",
      "Successfully extracted data from https://insights.blackcoffer.com/will-technology-eliminate-the-need-for-animal-testing-in-drug-development/ and saved to output/blackassign_blackassign0063.txt\n",
      "Successfully extracted data from https://insights.blackcoffer.com/will-we-ever-understand-the-nature-of-consciousness/ and saved to output/blackassign_blackassign0064.txt\n",
      "Successfully extracted data from https://insights.blackcoffer.com/will-we-ever-colonize-outer-space/ and saved to output/blackassign_blackassign0065.txt\n",
      "Successfully extracted data from https://insights.blackcoffer.com/what-is-the-chance-homo-sapiens-will-survive-for-the-next-500-years/ and saved to output/blackassign_blackassign0066.txt\n",
      "Successfully extracted data from https://insights.blackcoffer.com/why-does-your-business-need-a-chatbot/ and saved to output/blackassign_blackassign0067.txt\n",
      "Successfully extracted data from https://insights.blackcoffer.com/how-you-lead-a-project-or-a-team-without-any-technical-expertise/ and saved to output/blackassign_blackassign0068.txt\n",
      "Successfully extracted data from https://insights.blackcoffer.com/can-you-be-great-leader-without-technical-expertise/ and saved to output/blackassign_blackassign0069.txt\n",
      "Successfully extracted data from https://insights.blackcoffer.com/how-does-artificial-intelligence-affect-the-environment/ and saved to output/blackassign_blackassign0070.txt\n",
      "Successfully extracted data from https://insights.blackcoffer.com/how-to-overcome-your-fear-of-making-mistakes-2/ and saved to output/blackassign_blackassign0071.txt\n",
      "Successfully extracted data from https://insights.blackcoffer.com/is-perfection-the-greatest-enemy-of-productivity/ and saved to output/blackassign_blackassign0072.txt\n",
      "Successfully extracted data from https://insights.blackcoffer.com/global-financial-crisis-2008-causes-effects-and-its-solution/ and saved to output/blackassign_blackassign0073.txt\n",
      "Successfully extracted data from https://insights.blackcoffer.com/gender-diversity-and-equality-in-the-tech-industry/ and saved to output/blackassign_blackassign0074.txt\n",
      "Successfully extracted data from https://insights.blackcoffer.com/how-to-overcome-your-fear-of-making-mistakes/ and saved to output/blackassign_blackassign0075.txt\n",
      "Successfully extracted data from https://insights.blackcoffer.com/how-small-business-can-survive-the-coronavirus-crisis/ and saved to output/blackassign_blackassign0076.txt\n",
      "Successfully extracted data from https://insights.blackcoffer.com/impacts-of-covid-19-on-vegetable-vendors-and-food-stalls/ and saved to output/blackassign_blackassign0077.txt\n",
      "Successfully extracted data from https://insights.blackcoffer.com/impacts-of-covid-19-on-vegetable-vendors/ and saved to output/blackassign_blackassign0078.txt\n",
      "Successfully extracted data from https://insights.blackcoffer.com/impact-of-covid-19-pandemic-on-tourism-aviation-industries/ and saved to output/blackassign_blackassign0079.txt\n",
      "Successfully extracted data from https://insights.blackcoffer.com/impact-of-covid-19-pandemic-on-sports-events-around-the-world/ and saved to output/blackassign_blackassign0080.txt\n",
      "Successfully extracted data from https://insights.blackcoffer.com/changing-landscape-and-emerging-trends-in-the-indian-it-ites-industry/ and saved to output/blackassign_blackassign0081.txt\n",
      "Successfully extracted data from https://insights.blackcoffer.com/online-gaming-adolescent-online-gaming-effects-demotivated-depression-musculoskeletal-and-psychosomatic-symptoms/ and saved to output/blackassign_blackassign0082.txt\n",
      "Successfully extracted data from https://insights.blackcoffer.com/human-rights-outlook/ and saved to output/blackassign_blackassign0083.txt\n",
      "Successfully extracted data from https://insights.blackcoffer.com/how-voice-search-makes-your-business-a-successful-business/ and saved to output/blackassign_blackassign0084.txt\n",
      "Successfully extracted data from https://insights.blackcoffer.com/how-the-covid-19-crisis-is-redefining-jobs-and-services/ and saved to output/blackassign_blackassign0085.txt\n",
      "Successfully extracted data from https://insights.blackcoffer.com/how-to-increase-social-media-engagement-for-marketers/ and saved to output/blackassign_blackassign0086.txt\n",
      "Successfully extracted data from https://insights.blackcoffer.com/impacts-of-covid-19-on-streets-sides-food-stalls/ and saved to output/blackassign_blackassign0087.txt\n",
      "Successfully extracted data from https://insights.blackcoffer.com/coronavirus-impact-on-energy-markets-2/ and saved to output/blackassign_blackassign0088.txt\n",
      "Successfully extracted data from https://insights.blackcoffer.com/coronavirus-impact-on-the-hospitality-industry-5/ and saved to output/blackassign_blackassign0089.txt\n",
      "Successfully extracted data from https://insights.blackcoffer.com/lessons-from-the-past-some-key-learnings-relevant-to-the-coronavirus-crisis-4/ and saved to output/blackassign_blackassign0090.txt\n",
      "Successfully extracted data from https://insights.blackcoffer.com/estimating-the-impact-of-covid-19-on-the-world-of-work-2/ and saved to output/blackassign_blackassign0091.txt\n",
      "Successfully extracted data from https://insights.blackcoffer.com/estimating-the-impact-of-covid-19-on-the-world-of-work-3/ and saved to output/blackassign_blackassign0092.txt\n",
      "Successfully extracted data from https://insights.blackcoffer.com/travel-and-tourism-outlook/ and saved to output/blackassign_blackassign0093.txt\n"
     ]
    },
    {
     "name": "stdout",
     "output_type": "stream",
     "text": [
      "Successfully extracted data from https://insights.blackcoffer.com/gaming-disorder-and-effects-of-gaming-on-health/ and saved to output/blackassign_blackassign0094.txt\n",
      "Successfully extracted data from https://insights.blackcoffer.com/what-is-the-repercussion-of-the-environment-due-to-the-covid-19-pandemic-situation/ and saved to output/blackassign_blackassign0095.txt\n",
      "Successfully extracted data from https://insights.blackcoffer.com/what-is-the-repercussion-of-the-environment-due-to-the-covid-19-pandemic-situation-2/ and saved to output/blackassign_blackassign0096.txt\n",
      "Successfully extracted data from https://insights.blackcoffer.com/impact-of-covid-19-pandemic-on-office-space-and-co-working-industries/ and saved to output/blackassign_blackassign0097.txt\n",
      "Successfully extracted data from https://insights.blackcoffer.com/contribution-of-handicrafts-visual-arts-literature-in-the-indian-economy/ and saved to output/blackassign_blackassign0098.txt\n",
      "Successfully extracted data from https://insights.blackcoffer.com/how-covid-19-is-impacting-payment-preferences/ and saved to output/blackassign_blackassign0099.txt\n",
      "Successfully extracted data from https://insights.blackcoffer.com/how-will-covid-19-affect-the-world-of-work-2/ and saved to output/blackassign_blackassign0100.txt\n"
     ]
    }
   ],
   "source": [
    "if __name__ == \"__main__\":\n",
    "    main()"
   ]
  },
  {
   "cell_type": "code",
   "execution_count": null,
   "id": "76bde85b",
   "metadata": {},
   "outputs": [],
   "source": []
  }
 ],
 "metadata": {
  "kernelspec": {
   "display_name": "Python 3 (ipykernel)",
   "language": "python",
   "name": "python3"
  },
  "language_info": {
   "codemirror_mode": {
    "name": "ipython",
    "version": 3
   },
   "file_extension": ".py",
   "mimetype": "text/x-python",
   "name": "python",
   "nbconvert_exporter": "python",
   "pygments_lexer": "ipython3",
   "version": "3.11.4"
  }
 },
 "nbformat": 4,
 "nbformat_minor": 5
}
